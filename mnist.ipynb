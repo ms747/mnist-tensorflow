{
 "cells": [
  {
   "cell_type": "code",
   "execution_count": 1,
   "metadata": {},
   "outputs": [],
   "source": [
    "import numpy as np\n"
   ]
  },
  {
   "cell_type": "code",
   "execution_count": 2,
   "metadata": {},
   "outputs": [],
   "source": [
    "IMAGE_SIZE = 28"
   ]
  },
  {
   "cell_type": "code",
   "execution_count": 45,
   "metadata": {},
   "outputs": [],
   "source": [
    "# Load Train Data\n",
    "def load_train_data(path,validation_size=500):\n",
    "    train_data = np.genfromtxt(path,delimiter=',',dtype=np.float32)\n",
    "    # X data\n",
    "    x_train = train_data[:,1:]\n",
    "    # Y data\n",
    "    y_train = train_data[:,0]\n",
    "    # One Hot\n",
    "    y_train = (np.arange(10) == y_train[:,None]).astype(np.float32)\n",
    "    # Data split\n",
    "    x_train, x_val, y_train, y_val = x_train[0:(len(x_train) - validation_size), :], x_train[(\n",
    "        len(x_train) - validation_size):len(x_train), :], \\\n",
    "                                     y_train[0:(len(y_train) - validation_size), :], y_train[(\n",
    "        len(y_train) - validation_size):len(y_train), :]\n",
    "    # Reshape Data\n",
    "    x_train = x_train.reshape(len(x_train),IMAGE_SIZE,IMAGE_SIZE,1)\n",
    "    x_val = x_val.reshape(len(x_val),IMAGE_SIZE,IMAGE_SIZE,1)\n",
    "    return x_train,x_val,y_train,y_val"
   ]
  },
  {
   "cell_type": "code",
   "execution_count": 46,
   "metadata": {},
   "outputs": [],
   "source": [
    "# Load Test Data\n",
    "def load_test_data(data_path):\n",
    "    test_data = np.genfromtxt(data_path, delimiter=',', dtype=np.float32)\n",
    "    x_test = test_data[:, 1:]\n",
    "\n",
    "    y_test = np.array(test_data[:, 0])\n",
    "    y_test = (np.arange(10) == y_test[:, None]).astype(np.float32)\n",
    "\n",
    "    x_test = x_test.reshape(len(x_test), IMAGE_SIZE, IMAGE_SIZE, 1)\n",
    "\n",
    "    return x_test, y_test"
   ]
  },
  {
   "cell_type": "code",
   "execution_count": 51,
   "metadata": {},
   "outputs": [],
   "source": [
    "import tensorflow as tf"
   ]
  },
  {
   "cell_type": "code",
   "execution_count": 53,
   "metadata": {},
   "outputs": [],
   "source": [
    "class Model():\n",
    "    def __init__(self,batch_size = 128 , learning_rate=1e-4, num_labels = 10):\n",
    "        self._batch_size = batch_size\n",
    "        self.learning_rate = learning_rate\n",
    "        self._num_labels = num_labels\n",
    "        \n",
    "    def _create_conv2d(self,x,W):\n",
    "        return tf.nn.conv2d(input = x, filter = W , strides= [1,1,1,1], padding='SAME')\n",
    "    \n",
    "    def _create_max_pool_2x2(self,input):\n",
    "        return tf.nn.max_pool(value=input,ksize=[1,2,2,1],strides=[1,2,2,1],padding='SAME')"
   ]
  },
  {
   "cell_type": "code",
   "execution_count": null,
   "metadata": {},
   "outputs": [],
   "source": []
  },
  {
   "cell_type": "code",
   "execution_count": null,
   "metadata": {},
   "outputs": [],
   "source": []
  },
  {
   "cell_type": "code",
   "execution_count": null,
   "metadata": {},
   "outputs": [],
   "source": []
  },
  {
   "cell_type": "code",
   "execution_count": null,
   "metadata": {},
   "outputs": [],
   "source": []
  }
 ],
 "metadata": {
  "kernelspec": {
   "display_name": "Python 3",
   "language": "python",
   "name": "python3"
  },
  "language_info": {
   "codemirror_mode": {
    "name": "ipython",
    "version": 3
   },
   "file_extension": ".py",
   "mimetype": "text/x-python",
   "name": "python",
   "nbconvert_exporter": "python",
   "pygments_lexer": "ipython3",
   "version": "3.6.6rc1+"
  }
 },
 "nbformat": 4,
 "nbformat_minor": 2
}
