{
  "cells": [
    {
      "metadata": {
        "_uuid": "8f2839f25d086af736a60e9eeb907d3b93b6e0e5",
        "_cell_guid": "b1076dfc-b9ad-4769-8c92-a6c4dae69d19",
        "trusted": true
      },
      "cell_type": "code",
      "source": "import numpy as np\nimport pandas as pd\nimport keras\nfrom keras.layers import Conv2D, MaxPooling2D, Flatten, Dense, Dropout\nfrom keras import backend as K",
      "execution_count": 16,
      "outputs": []
    },
    {
      "metadata": {
        "_cell_guid": "79c7e3d0-c299-4dcb-8224-4455121ee9b0",
        "collapsed": true,
        "_uuid": "d629ff2d2480ee46fbb7e2d37f6b5fab8052498a",
        "trusted": true
      },
      "cell_type": "code",
      "source": "data = pd.read_csv(\"../input/fashion-mnist_train.csv\")\ntest = pd.read_csv(\"../input/fashion-mnist_test.csv\")",
      "execution_count": 17,
      "outputs": []
    },
    {
      "metadata": {
        "trusted": true,
        "_uuid": "49c991ba2d6532ccd3991d5de9db6adc99f2e345",
        "collapsed": true
      },
      "cell_type": "code",
      "source": "y_labels = np.array(data['label'].values)\ny_labels_test = np.array(test['label'].values)",
      "execution_count": 18,
      "outputs": []
    },
    {
      "metadata": {
        "trusted": true,
        "_uuid": "c2ca46338e0fd4b256c74707df9eba0ea0908230"
      },
      "cell_type": "code",
      "source": "y_labels = np.eye(10)[y_labels.reshape(-1)]\nprint(y_labels.shape)\ny_labels_test = np.eye(10)[y_labels_test.reshape(-1)]\nprint(y_labels_test.shape)",
      "execution_count": 19,
      "outputs": [
        {
          "output_type": "stream",
          "text": "(60000, 10)\n(10000, 10)\n",
          "name": "stdout"
        }
      ]
    },
    {
      "metadata": {
        "trusted": true,
        "_uuid": "c5a3dc8beffc8c0bc587ab8dce73a00c805815e7",
        "collapsed": true
      },
      "cell_type": "code",
      "source": "x_inputs = np.array(data.iloc[:,1:785].values)\nx_inputs_test = np.array(test.iloc[:,1:785].values)",
      "execution_count": 20,
      "outputs": []
    },
    {
      "metadata": {
        "trusted": true,
        "_uuid": "a626a4008d28212658a3389bb0ffe47841e0e23e"
      },
      "cell_type": "code",
      "source": "print(x_inputs.shape)\nprint(x_inputs_test.shape)\nx_inputs = x_inputs.reshape(60000,28,28,1)\nx_inputs_test = x_inputs_test.reshape(10000,28,28,1)\nprint(x_inputs.shape)\nprint(x_inputs_test.shape)",
      "execution_count": 21,
      "outputs": [
        {
          "output_type": "stream",
          "text": "(60000, 784)\n(10000, 784)\n(60000, 28, 28, 1)\n(10000, 28, 28, 1)\n",
          "name": "stdout"
        }
      ]
    },
    {
      "metadata": {
        "trusted": true,
        "collapsed": true,
        "_uuid": "ae46779f17b20086615984b27271cb5bdf46188c"
      },
      "cell_type": "code",
      "source": "model = keras.Sequential()",
      "execution_count": 22,
      "outputs": []
    },
    {
      "metadata": {
        "trusted": true,
        "_uuid": "e38824f66fe2469b6edab8346d818ecf6f0edc77",
        "collapsed": true
      },
      "cell_type": "code",
      "source": "model.add(Conv2D(32, (5, 5), input_shape=(28,28,1), activation='relu'))",
      "execution_count": 23,
      "outputs": []
    },
    {
      "metadata": {
        "trusted": true,
        "collapsed": true,
        "_uuid": "eb56872e9e02b98d928d5b38c3dd09cb7ac22fe1"
      },
      "cell_type": "code",
      "source": "model.add(Conv2D(64, (3, 3), activation='relu'))",
      "execution_count": 24,
      "outputs": []
    },
    {
      "metadata": {
        "trusted": true,
        "_uuid": "bb394efdc67225824239588ba2d8c348c7729328",
        "collapsed": true
      },
      "cell_type": "code",
      "source": "model.add(MaxPooling2D(pool_size=(2, 2)))",
      "execution_count": 25,
      "outputs": []
    },
    {
      "metadata": {
        "trusted": true,
        "collapsed": true,
        "_uuid": "e814a2662eaab49080fed5f7f1ee1c8b4b92e111"
      },
      "cell_type": "code",
      "source": "model.add(Dropout(0.25))",
      "execution_count": 26,
      "outputs": []
    },
    {
      "metadata": {
        "trusted": true,
        "collapsed": true,
        "_uuid": "3f50604c2bf8590b17990b981915eb3c19792443"
      },
      "cell_type": "code",
      "source": "model.add(Flatten())",
      "execution_count": 27,
      "outputs": []
    },
    {
      "metadata": {
        "trusted": true,
        "collapsed": true,
        "_uuid": "7cb35c592ff5efd978a338a135b53efff7c1c568"
      },
      "cell_type": "code",
      "source": "model.add(Dense(128, activation='relu'))",
      "execution_count": 28,
      "outputs": []
    },
    {
      "metadata": {
        "trusted": true,
        "collapsed": true,
        "_uuid": "2c36b5932ab6ce55462f55dbb8ed886772203278"
      },
      "cell_type": "code",
      "source": "model.add(Dropout(0.5))",
      "execution_count": 29,
      "outputs": []
    },
    {
      "metadata": {
        "trusted": true,
        "_uuid": "fa84ad827d1fd0f2bc42c5b71acbcbc9de9a2dfb",
        "collapsed": true
      },
      "cell_type": "code",
      "source": "model.add(Dense(10, activation='softmax'))",
      "execution_count": 30,
      "outputs": []
    },
    {
      "metadata": {
        "trusted": true,
        "collapsed": true,
        "_uuid": "f080e10f8fdaa74761e78cd92eb1d8441b7aae09"
      },
      "cell_type": "code",
      "source": "model.compile(loss=keras.losses.categorical_crossentropy,\n              optimizer=keras.optimizers.Adadelta(),\n              metrics=['accuracy'])",
      "execution_count": 31,
      "outputs": []
    },
    {
      "metadata": {
        "trusted": true,
        "_uuid": "ff1429b603ac0ff94dc765460f91c2169b6efc64"
      },
      "cell_type": "code",
      "source": "model.fit(x_inputs, y_labels,\n          batch_size=128,\n          epochs=12,\n          verbose=1,\n          validation_data = (x_inputs_test,y_labels_test))",
      "execution_count": 32,
      "outputs": [
        {
          "output_type": "stream",
          "text": "Train on 60000 samples, validate on 10000 samples\nEpoch 1/12\n60000/60000 [==============================] - 13s 221us/step - loss: 1.1899 - acc: 0.7659 - val_loss: 0.3746 - val_acc: 0.8614\nEpoch 2/12\n60000/60000 [==============================] - 10s 161us/step - loss: 0.4188 - acc: 0.8520 - val_loss: 0.3187 - val_acc: 0.8825\nEpoch 3/12\n60000/60000 [==============================] - 10s 161us/step - loss: 0.3720 - acc: 0.8690 - val_loss: 0.3415 - val_acc: 0.8718\nEpoch 4/12\n60000/60000 [==============================] - 10s 160us/step - loss: 0.3450 - acc: 0.8776 - val_loss: 0.2801 - val_acc: 0.8974\nEpoch 5/12\n60000/60000 [==============================] - 10s 161us/step - loss: 0.3198 - acc: 0.8855 - val_loss: 0.3173 - val_acc: 0.8868\nEpoch 6/12\n60000/60000 [==============================] - 10s 161us/step - loss: 0.3059 - acc: 0.8928 - val_loss: 0.2915 - val_acc: 0.8935\nEpoch 7/12\n60000/60000 [==============================] - 10s 160us/step - loss: 0.2954 - acc: 0.8940 - val_loss: 0.2711 - val_acc: 0.9055\nEpoch 8/12\n60000/60000 [==============================] - 10s 160us/step - loss: 0.2859 - acc: 0.8978 - val_loss: 0.2679 - val_acc: 0.9056\nEpoch 9/12\n60000/60000 [==============================] - 10s 161us/step - loss: 0.2778 - acc: 0.9010 - val_loss: 0.2834 - val_acc: 0.9016\nEpoch 10/12\n60000/60000 [==============================] - 10s 162us/step - loss: 0.2696 - acc: 0.9033 - val_loss: 0.2623 - val_acc: 0.9043\nEpoch 11/12\n60000/60000 [==============================] - 10s 161us/step - loss: 0.2648 - acc: 0.9052 - val_loss: 0.2768 - val_acc: 0.9095\nEpoch 12/12\n60000/60000 [==============================] - 10s 161us/step - loss: 0.2611 - acc: 0.9060 - val_loss: 0.2545 - val_acc: 0.9114\n",
          "name": "stdout"
        },
        {
          "output_type": "execute_result",
          "execution_count": 32,
          "data": {
            "text/plain": "<keras.callbacks.History at 0x7f4fbc5cc630>"
          },
          "metadata": {}
        }
      ]
    },
    {
      "metadata": {
        "trusted": true,
        "_uuid": "0d47d6ed61ac720ec8e04e68e042e61fc1c5e7ad"
      },
      "cell_type": "code",
      "source": "score = model.evaluate(x_inputs_test, y_labels_test, verbose=0)\nprint('Test loss:', score[0])\nprint('Test accuracy:', score[1])",
      "execution_count": 34,
      "outputs": [
        {
          "output_type": "stream",
          "text": "Test loss: 0.25448625409007075\nTest accuracy: 0.9114\n",
          "name": "stdout"
        }
      ]
    },
    {
      "metadata": {
        "trusted": true,
        "collapsed": true,
        "_uuid": "712daf0bb33e71d2b76d7a50d5bdf97ca9bdcc9f"
      },
      "cell_type": "code",
      "source": "",
      "execution_count": null,
      "outputs": []
    }
  ],
  "metadata": {
    "kernelspec": {
      "display_name": "Python 3",
      "language": "python",
      "name": "python3"
    },
    "language_info": {
      "name": "python",
      "version": "3.6.4",
      "mimetype": "text/x-python",
      "codemirror_mode": {
        "name": "ipython",
        "version": 3
      },
      "pygments_lexer": "ipython3",
      "nbconvert_exporter": "python",
      "file_extension": ".py"
    }
  },
  "nbformat": 4,
  "nbformat_minor": 1
}