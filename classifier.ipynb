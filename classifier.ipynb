{
  "cells": [
    {
      "metadata": {
        "_uuid": "8f2839f25d086af736a60e9eeb907d3b93b6e0e5",
        "_cell_guid": "b1076dfc-b9ad-4769-8c92-a6c4dae69d19",
        "trusted": true
      },
      "cell_type": "code",
      "source": "import numpy as np\nimport pandas as pd\nimport keras\nfrom keras.layers import Conv2D, MaxPooling2D, Flatten, Dense, Dropout\nfrom keras import backend as K\nfrom keras.models import load_model",
      "execution_count": 58,
      "outputs": []
    },
    {
      "metadata": {
        "_cell_guid": "79c7e3d0-c299-4dcb-8224-4455121ee9b0",
        "collapsed": true,
        "_uuid": "d629ff2d2480ee46fbb7e2d37f6b5fab8052498a",
        "trusted": true
      },
      "cell_type": "code",
      "source": "data = pd.read_csv(\"../input/fashion-mnist_train.csv\")\ntest = pd.read_csv(\"../input/fashion-mnist_test.csv\")",
      "execution_count": 59,
      "outputs": []
    },
    {
      "metadata": {
        "trusted": true,
        "_uuid": "49c991ba2d6532ccd3991d5de9db6adc99f2e345",
        "collapsed": true
      },
      "cell_type": "code",
      "source": "y_labels = np.array(data['label'].values)\ny_labels_test = np.array(test['label'].values)",
      "execution_count": 60,
      "outputs": []
    },
    {
      "metadata": {
        "trusted": true,
        "_uuid": "c2ca46338e0fd4b256c74707df9eba0ea0908230"
      },
      "cell_type": "code",
      "source": "y_labels = np.eye(10)[y_labels.reshape(-1)]\nprint(y_labels.shape)\ny_labels_test = np.eye(10)[y_labels_test.reshape(-1)]\nprint(y_labels_test.shape)",
      "execution_count": 61,
      "outputs": [
        {
          "output_type": "stream",
          "text": "(60000, 10)\n(10000, 10)\n",
          "name": "stdout"
        }
      ]
    },
    {
      "metadata": {
        "trusted": true,
        "_uuid": "c5a3dc8beffc8c0bc587ab8dce73a00c805815e7",
        "collapsed": true
      },
      "cell_type": "code",
      "source": "x_inputs = np.array(data.iloc[:,1:785].values)\nx_inputs_test = np.array(test.iloc[:,1:785].values)",
      "execution_count": 62,
      "outputs": []
    },
    {
      "metadata": {
        "trusted": true,
        "_uuid": "a626a4008d28212658a3389bb0ffe47841e0e23e"
      },
      "cell_type": "code",
      "source": "print(x_inputs.shape)\nprint(x_inputs_test.shape)\nx_inputs = x_inputs.reshape(60000,28,28,1)\nx_inputs_test = x_inputs_test.reshape(10000,28,28,1)\nprint(x_inputs.shape)\nprint(x_inputs_test.shape)",
      "execution_count": 63,
      "outputs": [
        {
          "output_type": "stream",
          "text": "(60000, 784)\n(10000, 784)\n(60000, 28, 28, 1)\n(10000, 28, 28, 1)\n",
          "name": "stdout"
        }
      ]
    },
    {
      "metadata": {
        "trusted": true,
        "collapsed": true,
        "_uuid": "ae46779f17b20086615984b27271cb5bdf46188c"
      },
      "cell_type": "code",
      "source": "model = keras.Sequential()",
      "execution_count": 64,
      "outputs": []
    },
    {
      "metadata": {
        "trusted": true,
        "_uuid": "e38824f66fe2469b6edab8346d818ecf6f0edc77",
        "collapsed": true
      },
      "cell_type": "code",
      "source": "model.add(Conv2D(32, (5, 5), input_shape=(28,28,1), activation='relu'))",
      "execution_count": 65,
      "outputs": []
    },
    {
      "metadata": {
        "trusted": true,
        "collapsed": true,
        "_uuid": "eb56872e9e02b98d928d5b38c3dd09cb7ac22fe1"
      },
      "cell_type": "code",
      "source": "model.add(Conv2D(64, (3, 3), activation='relu'))",
      "execution_count": 66,
      "outputs": []
    },
    {
      "metadata": {
        "trusted": true,
        "_uuid": "bb394efdc67225824239588ba2d8c348c7729328",
        "collapsed": true
      },
      "cell_type": "code",
      "source": "model.add(MaxPooling2D(pool_size=(2, 2)))",
      "execution_count": 67,
      "outputs": []
    },
    {
      "metadata": {
        "trusted": true,
        "collapsed": true,
        "_uuid": "e814a2662eaab49080fed5f7f1ee1c8b4b92e111"
      },
      "cell_type": "code",
      "source": "model.add(Dropout(0.25))",
      "execution_count": 68,
      "outputs": []
    },
    {
      "metadata": {
        "trusted": true,
        "collapsed": true,
        "_uuid": "3f50604c2bf8590b17990b981915eb3c19792443"
      },
      "cell_type": "code",
      "source": "model.add(Flatten())",
      "execution_count": 69,
      "outputs": []
    },
    {
      "metadata": {
        "trusted": true,
        "collapsed": true,
        "_uuid": "7cb35c592ff5efd978a338a135b53efff7c1c568"
      },
      "cell_type": "code",
      "source": "model.add(Dense(128, activation='relu'))",
      "execution_count": 70,
      "outputs": []
    },
    {
      "metadata": {
        "trusted": true,
        "collapsed": true,
        "_uuid": "2c36b5932ab6ce55462f55dbb8ed886772203278"
      },
      "cell_type": "code",
      "source": "model.add(Dropout(0.5))",
      "execution_count": 71,
      "outputs": []
    },
    {
      "metadata": {
        "trusted": true,
        "_uuid": "fa84ad827d1fd0f2bc42c5b71acbcbc9de9a2dfb",
        "collapsed": true
      },
      "cell_type": "code",
      "source": "model.add(Dense(10, activation='softmax'))",
      "execution_count": 72,
      "outputs": []
    },
    {
      "metadata": {
        "trusted": true,
        "collapsed": true,
        "_uuid": "f080e10f8fdaa74761e78cd92eb1d8441b7aae09"
      },
      "cell_type": "code",
      "source": "model.compile(loss=keras.losses.categorical_crossentropy,\n              optimizer=keras.optimizers.Adadelta(),\n              metrics=['accuracy'])",
      "execution_count": 73,
      "outputs": []
    },
    {
      "metadata": {
        "trusted": true,
        "_uuid": "ff1429b603ac0ff94dc765460f91c2169b6efc64"
      },
      "cell_type": "code",
      "source": "model.fit(x_inputs, y_labels,\n          batch_size=128,\n          epochs=12,\n          verbose=1,\n          validation_data = (x_inputs_test,y_labels_test))",
      "execution_count": 74,
      "outputs": [
        {
          "output_type": "stream",
          "text": "Train on 60000 samples, validate on 10000 samples\nEpoch 1/12\n60000/60000 [==============================] - 11s 175us/step - loss: 1.7482 - acc: 0.7312 - val_loss: 0.4076 - val_acc: 0.8549\nEpoch 2/12\n60000/60000 [==============================] - 10s 164us/step - loss: 0.4342 - acc: 0.8460 - val_loss: 0.3280 - val_acc: 0.8799\nEpoch 3/12\n60000/60000 [==============================] - 10s 163us/step - loss: 0.3805 - acc: 0.8644 - val_loss: 0.3326 - val_acc: 0.8801\nEpoch 4/12\n60000/60000 [==============================] - 10s 164us/step - loss: 0.3499 - acc: 0.8738 - val_loss: 0.2930 - val_acc: 0.8949\nEpoch 5/12\n60000/60000 [==============================] - 10s 163us/step - loss: 0.3246 - acc: 0.8831 - val_loss: 0.2946 - val_acc: 0.8950\nEpoch 6/12\n60000/60000 [==============================] - 10s 163us/step - loss: 0.3074 - acc: 0.8898 - val_loss: 0.2896 - val_acc: 0.8905\nEpoch 7/12\n60000/60000 [==============================] - 10s 163us/step - loss: 0.2941 - acc: 0.8940 - val_loss: 0.2740 - val_acc: 0.9031\nEpoch 8/12\n60000/60000 [==============================] - 10s 163us/step - loss: 0.2860 - acc: 0.8978 - val_loss: 0.2585 - val_acc: 0.9064\nEpoch 9/12\n60000/60000 [==============================] - 10s 162us/step - loss: 0.2774 - acc: 0.9012 - val_loss: 0.2601 - val_acc: 0.9047\nEpoch 10/12\n60000/60000 [==============================] - 10s 164us/step - loss: 0.2707 - acc: 0.9023 - val_loss: 0.2594 - val_acc: 0.9075\nEpoch 11/12\n60000/60000 [==============================] - 10s 163us/step - loss: 0.2626 - acc: 0.9043 - val_loss: 0.2693 - val_acc: 0.9092\nEpoch 12/12\n60000/60000 [==============================] - 10s 163us/step - loss: 0.2607 - acc: 0.9069 - val_loss: 0.2610 - val_acc: 0.9112\n",
          "name": "stdout"
        },
        {
          "output_type": "execute_result",
          "execution_count": 74,
          "data": {
            "text/plain": "<keras.callbacks.History at 0x7f4fbc8f2978>"
          },
          "metadata": {}
        }
      ]
    },
    {
      "metadata": {
        "trusted": true,
        "collapsed": true,
        "_uuid": "7eb6aeaf81bd7052f88c1da7003e39e7f9888c84"
      },
      "cell_type": "code",
      "source": "# Saving the model\nmodel.save('my_model.h5')",
      "execution_count": 75,
      "outputs": []
    },
    {
      "metadata": {
        "trusted": true,
        "_uuid": "0d47d6ed61ac720ec8e04e68e042e61fc1c5e7ad"
      },
      "cell_type": "code",
      "source": "score = model.evaluate(x_inputs_test, y_labels_test, verbose=0)\nprint('Test loss:', score[0])\nprint('Test accuracy:', score[1])",
      "execution_count": 76,
      "outputs": [
        {
          "output_type": "stream",
          "text": "Test loss: 0.26104174322485924\nTest accuracy: 0.9112\n",
          "name": "stdout"
        }
      ]
    },
    {
      "metadata": {
        "trusted": true,
        "_uuid": "32fb534ebc7c9777884d8a4fcc910fc4f9edaaae"
      },
      "cell_type": "code",
      "source": "my_labels = ['T-shirt','Trouser','Pullover','Dress','Coat','Sandal','Shirt','Sneaker','Bag','Boot']\ncheck_items = np.random.randint(10, size=(10)).astype('uint8')\nfor i in range(100):\n    item = np.random.randint(10000)\n    x = x_inputs_test[item].reshape(1,28,28,1)\n    print(\"Prediction: \" + my_labels[np.argmax(model.predict(x))])\n    print(\"Original: \" + my_labels[np.argmax(y_labels_test[item])])\n    print(\"\")",
      "execution_count": 99,
      "outputs": [
        {
          "output_type": "stream",
          "text": "Prediction: Bag\nOriginal: Bag\n\nPrediction: Bag\nOriginal: Bag\n\nPrediction: Shirt\nOriginal: T-shirt\n\nPrediction: Trouser\nOriginal: Trouser\n\nPrediction: Dress\nOriginal: Dress\n\nPrediction: Bag\nOriginal: Bag\n\nPrediction: T-shirt\nOriginal: T-shirt\n\nPrediction: Sneaker\nOriginal: Sneaker\n\nPrediction: Shirt\nOriginal: Coat\n\nPrediction: Sandal\nOriginal: Sandal\n\nPrediction: T-shirt\nOriginal: T-shirt\n\nPrediction: Coat\nOriginal: Shirt\n\nPrediction: Boot\nOriginal: Boot\n\nPrediction: Coat\nOriginal: Coat\n\nPrediction: Coat\nOriginal: Dress\n\nPrediction: Sandal\nOriginal: Sandal\n\nPrediction: Bag\nOriginal: Bag\n\nPrediction: Sandal\nOriginal: Sandal\n\nPrediction: Trouser\nOriginal: Trouser\n\nPrediction: Pullover\nOriginal: Pullover\n\nPrediction: Shirt\nOriginal: Shirt\n\nPrediction: Boot\nOriginal: Boot\n\nPrediction: Pullover\nOriginal: Pullover\n\nPrediction: Boot\nOriginal: Sneaker\n\nPrediction: T-shirt\nOriginal: T-shirt\n\nPrediction: Shirt\nOriginal: Shirt\n\nPrediction: Sneaker\nOriginal: Sneaker\n\nPrediction: T-shirt\nOriginal: T-shirt\n\nPrediction: T-shirt\nOriginal: T-shirt\n\nPrediction: Coat\nOriginal: Coat\n\nPrediction: Trouser\nOriginal: Trouser\n\nPrediction: Boot\nOriginal: Boot\n\nPrediction: Pullover\nOriginal: Pullover\n\nPrediction: Sandal\nOriginal: Sandal\n\nPrediction: Trouser\nOriginal: Trouser\n\nPrediction: Boot\nOriginal: Boot\n\nPrediction: Sandal\nOriginal: Sandal\n\nPrediction: Coat\nOriginal: Coat\n\nPrediction: Pullover\nOriginal: Pullover\n\nPrediction: Dress\nOriginal: Dress\n\nPrediction: Shirt\nOriginal: Pullover\n\nPrediction: Sandal\nOriginal: Sandal\n\nPrediction: Bag\nOriginal: Bag\n\nPrediction: T-shirt\nOriginal: T-shirt\n\nPrediction: Dress\nOriginal: Dress\n\nPrediction: Bag\nOriginal: Bag\n\nPrediction: T-shirt\nOriginal: T-shirt\n\nPrediction: T-shirt\nOriginal: T-shirt\n\nPrediction: Dress\nOriginal: Dress\n\nPrediction: Sneaker\nOriginal: Sneaker\n\nPrediction: Sneaker\nOriginal: Sneaker\n\nPrediction: Bag\nOriginal: Bag\n\nPrediction: Bag\nOriginal: Bag\n\nPrediction: T-shirt\nOriginal: T-shirt\n\nPrediction: Trouser\nOriginal: Trouser\n\nPrediction: Dress\nOriginal: Dress\n\nPrediction: Bag\nOriginal: Bag\n\nPrediction: Trouser\nOriginal: Trouser\n\nPrediction: Trouser\nOriginal: Trouser\n\nPrediction: Trouser\nOriginal: Trouser\n\nPrediction: Bag\nOriginal: Bag\n\nPrediction: Sneaker\nOriginal: Sneaker\n\nPrediction: Coat\nOriginal: Coat\n\nPrediction: Shirt\nOriginal: Shirt\n\nPrediction: Sandal\nOriginal: Sandal\n\nPrediction: Dress\nOriginal: Dress\n\nPrediction: T-shirt\nOriginal: T-shirt\n\nPrediction: Dress\nOriginal: Dress\n\nPrediction: Bag\nOriginal: Bag\n\nPrediction: Coat\nOriginal: Coat\n\nPrediction: Trouser\nOriginal: Trouser\n\nPrediction: Dress\nOriginal: Dress\n\nPrediction: Boot\nOriginal: Boot\n\nPrediction: Pullover\nOriginal: Pullover\n\nPrediction: Dress\nOriginal: Dress\n\nPrediction: Shirt\nOriginal: Shirt\n\nPrediction: Bag\nOriginal: Bag\n\nPrediction: T-shirt\nOriginal: T-shirt\n\nPrediction: Pullover\nOriginal: Pullover\n\nPrediction: Boot\nOriginal: Boot\n\nPrediction: Sandal\nOriginal: Sandal\n\nPrediction: Boot\nOriginal: Boot\n\nPrediction: Shirt\nOriginal: Shirt\n\nPrediction: Trouser\nOriginal: Trouser\n\nPrediction: Sandal\nOriginal: Sandal\n\nPrediction: Dress\nOriginal: Dress\n\nPrediction: T-shirt\nOriginal: T-shirt\n\nPrediction: Bag\nOriginal: Bag\n\nPrediction: Coat\nOriginal: Coat\n\nPrediction: Sneaker\nOriginal: Sneaker\n\nPrediction: Trouser\nOriginal: Trouser\n\nPrediction: Trouser\nOriginal: Trouser\n\nPrediction: T-shirt\nOriginal: T-shirt\n\nPrediction: Coat\nOriginal: Coat\n\nPrediction: T-shirt\nOriginal: T-shirt\n\nPrediction: T-shirt\nOriginal: T-shirt\n\nPrediction: T-shirt\nOriginal: Pullover\n\nPrediction: Dress\nOriginal: Dress\n\nPrediction: Dress\nOriginal: Dress\n\nPrediction: Coat\nOriginal: Coat\n\n",
          "name": "stdout"
        }
      ]
    }
  ],
  "metadata": {
    "kernelspec": {
      "display_name": "Python 3",
      "language": "python",
      "name": "python3"
    },
    "language_info": {
      "name": "python",
      "version": "3.6.4",
      "mimetype": "text/x-python",
      "codemirror_mode": {
        "name": "ipython",
        "version": 3
      },
      "pygments_lexer": "ipython3",
      "nbconvert_exporter": "python",
      "file_extension": ".py"
    }
  },
  "nbformat": 4,
  "nbformat_minor": 1
}